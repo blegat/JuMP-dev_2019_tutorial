{
 "cells": [
  {
   "cell_type": "markdown",
   "metadata": {},
   "source": [
    "This tutorial gives an introduction on how to write a bridge (inspired from `test/nonnegative_bridge.jl`).\n",
    "\n",
    "Bridges are defined entirely in the MathOptInterface world, no JuMP variable, expressions or references are involved.\n",
    "We start by defining a new set."
   ]
  },
  {
   "cell_type": "code",
   "execution_count": 1,
   "metadata": {},
   "outputs": [
    {
     "data": {
      "text/plain": [
       "Nonnegative"
      ]
     },
     "execution_count": 1,
     "metadata": {},
     "output_type": "execute_result"
    }
   ],
   "source": [
    "using MathOptInterface\n",
    "const MOI = MathOptInterface\n",
    "const MOIB = MOI.Bridges\n",
    "\n",
    "\"\"\"\n",
    "    Nonnegative <: MOI.AbstractScalarSet\n",
    "\n",
    "Scalar set of nonnegative numbers.\n",
    "\"\"\"\n",
    "struct Nonnegative <: MOI.AbstractScalarSet end"
   ]
  },
  {
   "cell_type": "markdown",
   "metadata": {},
   "source": [
    "The set can already be used in JuMP but no solver supports it."
   ]
  },
  {
   "cell_type": "code",
   "execution_count": 2,
   "metadata": {},
   "outputs": [
    {
     "ename": "ErrorException",
     "evalue": "Constraints of type MathOptInterface.SingleVariable-in-Nonnegative are not supported by the solver.",
     "output_type": "error",
     "traceback": [
      "Constraints of type MathOptInterface.SingleVariable-in-Nonnegative are not supported by the solver.",
      "",
      "Stacktrace:",
      " [1] moi_add_constraint(::MathOptInterface.Bridges.LazyBridgeOptimizer{GLPK.Optimizer,MathOptInterface.Utilities.UniversalFallback{MathOptInterface.Bridges.AllBridgedConstraints{Float64}}}, ::MathOptInterface.SingleVariable, ::Nonnegative) at /home/blegat/.julia/packages/JuMP/HmKx8/src/constraints.jl:371",
      " [2] add_constraint(::Model, ::ScalarConstraint{VariableRef,Nonnegative}, ::String) at /home/blegat/.julia/packages/JuMP/HmKx8/src/constraints.jl:385",
      " [3] top-level scope at /home/blegat/.julia/packages/JuMP/HmKx8/src/macros.jl:621",
      " [4] top-level scope at In[2]:5"
     ]
    }
   ],
   "source": [
    "using JuMP\n",
    "using GLPK\n",
    "model = direct_model(MOI.Bridges.full_bridge_optimizer(GLPK.Optimizer(), Float64))\n",
    "@variable(model, x)\n",
    "@constraint(model, x in Nonnegative())"
   ]
  },
  {
   "cell_type": "markdown",
   "metadata": {},
   "source": [
    "This constraint can easily be bridged either into `MOI.SingleVariable`-in-`MOI.GreaterThan` or `MOI.VectorOfVariables`-in-`MOI.Nonnegatives`.\n",
    "Let's bridge it to `MOI.SingleVariable`-in-`MOI.GreaterThan`.\n",
    "\n",
    "To create the bridge we first need to figure out what are the constraints and variables that are created.\n",
    "In this case, no variable is created, only a constraint so we just need to store the index of this constraint."
   ]
  },
  {
   "cell_type": "code",
   "execution_count": 3,
   "metadata": {},
   "outputs": [
    {
     "data": {
      "text/plain": [
       "NonnegativeBridge"
      ]
     },
     "execution_count": 3,
     "metadata": {},
     "output_type": "execute_result"
    }
   ],
   "source": [
    "\"\"\"\n",
    "    NonnegativeBridge{T}\n",
    "\n",
    "The `NonnegativeBridge` replaces a constraint `func`-in-`Nonnegative` into\n",
    "`func`-in-`GreaterThan{T}`.\n",
    "\"\"\"\n",
    "struct NonnegativeBridge{T, F<:MOI.AbstractScalarFunction} <: MOIB.AbstractBridge\n",
    "    constraint_index::MOI.ConstraintIndex{F, MOI.GreaterThan{T}}\n",
    "end"
   ]
  },
  {
   "cell_type": "markdown",
   "metadata": {},
   "source": [
    "Now we need to implement the creation of the bridge. The constructor transforms the constraint, creates the required variables and constraints in the model and return the bridge containing the indices of the created variables and/or constraints (they are needed later, every index is at least needed for `MOI.delete`)."
   ]
  },
  {
   "cell_type": "code",
   "execution_count": 4,
   "metadata": {
    "collapsed": true
   },
   "outputs": [],
   "source": [
    "function NonnegativeBridge{T, F}(model::MOI.ModelLike, f::F, s::Nonnegative) where {T, F}\n",
    "    ci = MOIU.add_scalar_constraint(model, f, MOI.GreaterThan(zero(T)))\n",
    "    return NonnegativeBridge{T, F}(ci)\n",
    "end"
   ]
  },
  {
   "cell_type": "markdown",
   "metadata": {},
   "source": [
    "In the `LazyBridgeOptimizer` used by JuMP to determine which bridges to use for a given constraint, a Bellman-Ford-like algorithm is used to find the shorted paths (in terms of number of bridges used) from an unsupported constraint to a constraint natively supported.\n",
    "The bridges plays the role of multi-edges and constraints play the role of nodes."
   ]
  },
  {
   "cell_type": "code",
   "execution_count": 5,
   "metadata": {},
   "outputs": [
    {
     "ename": "ErrorException",
     "evalue": "Constraints of type MathOptInterface.SingleVariable-in-Nonnegative are not supported by the solver.",
     "output_type": "error",
     "traceback": [
      "Constraints of type MathOptInterface.SingleVariable-in-Nonnegative are not supported by the solver.",
      "",
      "Stacktrace:",
      " [1] moi_add_constraint(::MathOptInterface.Bridges.LazyBridgeOptimizer{GLPK.Optimizer,MathOptInterface.Utilities.UniversalFallback{MathOptInterface.Bridges.AllBridgedConstraints{Float64}}}, ::MathOptInterface.SingleVariable, ::Nonnegative) at /home/blegat/.julia/packages/JuMP/HmKx8/src/constraints.jl:371",
      " [2] add_constraint(::Model, ::ScalarConstraint{VariableRef,Nonnegative}, ::String) at /home/blegat/.julia/packages/JuMP/HmKx8/src/constraints.jl:385",
      " [3] top-level scope at /home/blegat/.julia/packages/JuMP/HmKx8/src/macros.jl:621",
      " [4] top-level scope at In[5]:1"
     ]
    }
   ],
   "source": [
    "@constraint(model, x in Nonnegative())"
   ]
  },
  {
   "cell_type": "markdown",
   "metadata": {},
   "source": [
    "To define the multi-edges of a bridge, the following three methods need to be defined."
   ]
  },
  {
   "cell_type": "code",
   "execution_count": 6,
   "metadata": {
    "collapsed": true
   },
   "outputs": [],
   "source": [
    "function MOI.supports_constraint(::Type{NonnegativeBridge{T}},\n",
    "                                 ::Type{<:MOI.AbstractScalarFunction},\n",
    "                                 ::Type{Nonnegative}) where T\n",
    "    return true\n",
    "end\n",
    "function MOIB.added_constraint_types(::Type{NonnegativeBridge{T, F}}) where {T, F}\n",
    "    return [(F, MOI.GreaterThan{T})]\n",
    "end\n",
    "function MOIB.concrete_bridge_type(::Type{NonnegativeBridge{T}},\n",
    "                                   F::Type{<:MOI.AbstractScalarFunction},\n",
    "                                   ::Type{Nonnegative}) where T\n",
    "    # In the constructor, the function `f` of type `F` is passed to\n",
    "    # `MOIU.add_scalar_constraint` which removes the constrant from `f` but\n",
    "    # does not change its type so the type of the function in `MOI.GreaterThan`\n",
    "    # will also be `F`.\n",
    "    return NonnegativeBridge{T, F}\n",
    "end"
   ]
  },
  {
   "cell_type": "markdown",
   "metadata": {},
   "source": [
    "Note that `F` is the type of the function of the constraint created by the bridge and stored in the bridge object,\n",
    "it is not necessarily equal to the type of the function of the constraint that is bridged, even if it is equal in this example.\n",
    "The type of the function can be computed using `MOIU.promote_operation`.\n",
    "Note that `MOIU.promote_operation` does not rely on inference (unlike `Base.promote_op`) so it is safe to use.\n",
    "\n",
    "For the bridge to be automatically added when a constraint involving `Nonnegative` is added to a model, we can\n",
    "implement the following method.\n",
    "Note that this is now a JuMP extension, we leave the MOI world."
   ]
  },
  {
   "cell_type": "code",
   "execution_count": 7,
   "metadata": {},
   "outputs": [],
   "source": [
    "function JuMP.build_constraint(_error::Function, func::JuMP.AbstractJuMPScalar, set::Nonnegative)\n",
    "    return BridgeableConstraint(ScalarConstraint(func, set), NonnegativeBridge)\n",
    "end"
   ]
  },
  {
   "cell_type": "markdown",
   "metadata": {},
   "source": [
    "The constraint can now be added."
   ]
  },
  {
   "cell_type": "code",
   "execution_count": 8,
   "metadata": {},
   "outputs": [
    {
     "data": {
      "text/latex": [
       "$ x \\in Nonnegative() $"
      ],
      "text/plain": [
       "x ∈ Nonnegative()"
      ]
     },
     "execution_count": 8,
     "metadata": {},
     "output_type": "execute_result"
    }
   ],
   "source": [
    "cref = @constraint(model, x in Nonnegative())"
   ]
  },
  {
   "cell_type": "markdown",
   "metadata": {},
   "source": [
    "When the user queries the number of constraints and the list of constraints, he should not see the constraints created by this bridge."
   ]
  },
  {
   "cell_type": "code",
   "execution_count": 9,
   "metadata": {},
   "outputs": [
    {
     "data": {
      "text/plain": [
       "1"
      ]
     },
     "execution_count": 9,
     "metadata": {},
     "output_type": "execute_result"
    }
   ],
   "source": [
    "num_constraints(model, VariableRef, MOI.GreaterThan{Float64})"
   ]
  },
  {
   "cell_type": "code",
   "execution_count": 10,
   "metadata": {},
   "outputs": [
    {
     "data": {
      "text/plain": [
       "1-element Array{ConstraintRef{Model,MathOptInterface.ConstraintIndex{MathOptInterface.SingleVariable,MathOptInterface.GreaterThan{Float64}},ScalarShape},1}:\n",
       " x ≥ 0.0"
      ]
     },
     "execution_count": 10,
     "metadata": {},
     "output_type": "execute_result"
    }
   ],
   "source": [
    "all_constraints(model, VariableRef, MOI.GreaterThan{Float64})"
   ]
  },
  {
   "cell_type": "markdown",
   "metadata": {},
   "source": [
    "Implementing these methods allows the `LazyBridgeOptimizer` to remove them from what is returned by the model."
   ]
  },
  {
   "cell_type": "code",
   "execution_count": 11,
   "metadata": {
    "collapsed": true
   },
   "outputs": [],
   "source": [
    "function MOI.get(::NonnegativeBridge{T, F},\n",
    "                 ::MOI.NumberOfConstraints{F, MOI.GreaterThan{T}}) where {T, F}\n",
    "    return 1\n",
    "end\n",
    "function MOI.get(bridge::NonnegativeBridge{T, F},\n",
    "                 ::MOI.ListOfConstraintIndices{F, MOI.GreaterThan{T}}) where {T, F}\n",
    "    return [bridge.constraint_index]\n",
    "end"
   ]
  },
  {
   "cell_type": "code",
   "execution_count": 12,
   "metadata": {},
   "outputs": [
    {
     "data": {
      "text/plain": [
       "0"
      ]
     },
     "execution_count": 12,
     "metadata": {},
     "output_type": "execute_result"
    }
   ],
   "source": [
    "num_constraints(model, VariableRef, MOI.GreaterThan{Float64})"
   ]
  },
  {
   "cell_type": "code",
   "execution_count": 13,
   "metadata": {},
   "outputs": [
    {
     "data": {
      "text/plain": [
       "0-element Array{ConstraintRef{Model,MathOptInterface.ConstraintIndex{MathOptInterface.SingleVariable,MathOptInterface.GreaterThan{Float64}},ScalarShape},1}"
      ]
     },
     "execution_count": 13,
     "metadata": {},
     "output_type": "execute_result"
    }
   ],
   "source": [
    "all_constraints(model, VariableRef, MOI.GreaterThan{Float64})"
   ]
  },
  {
   "cell_type": "markdown",
   "metadata": {},
   "source": [
    "The primal and dual values need to be transformed. In this case, no transformation is necessary."
   ]
  },
  {
   "cell_type": "code",
   "execution_count": 14,
   "metadata": {},
   "outputs": [
    {
     "ename": "ArgumentError",
     "evalue": "ArgumentError: Constraint bridge of type `NonnegativeBridge{Float64,MathOptInterface.SingleVariable}` does not support accessing the attribute `MathOptInterface.ConstraintPrimal(1)`.",
     "output_type": "error",
     "traceback": [
      "ArgumentError: Constraint bridge of type `NonnegativeBridge{Float64,MathOptInterface.SingleVariable}` does not support accessing the attribute `MathOptInterface.ConstraintPrimal(1)`.",
      "",
      "Stacktrace:",
      " [1] get(::MathOptInterface.Bridges.LazyBridgeOptimizer{GLPK.Optimizer,MathOptInterface.Utilities.UniversalFallback{MathOptInterface.Bridges.AllBridgedConstraints{Float64}}}, ::MathOptInterface.ConstraintPrimal, ::NonnegativeBridge{Float64,MathOptInterface.SingleVariable}) at /home/blegat/.julia/dev/MathOptInterface/src/Bridges/bridge.jl:16",
      " [2] get(::MathOptInterface.Bridges.LazyBridgeOptimizer{GLPK.Optimizer,MathOptInterface.Utilities.UniversalFallback{MathOptInterface.Bridges.AllBridgedConstraints{Float64}}}, ::MathOptInterface.ConstraintPrimal, ::MathOptInterface.ConstraintIndex{MathOptInterface.SingleVariable,Nonnegative}) at /home/blegat/.julia/dev/MathOptInterface/src/Bridges/bridgeoptimizer.jl:231",
      " [3] _moi_get_result(::MathOptInterface.Bridges.LazyBridgeOptimizer{GLPK.Optimizer,MathOptInterface.Utilities.UniversalFallback{MathOptInterface.Bridges.AllBridgedConstraints{Float64}}}, ::MathOptInterface.ConstraintPrimal, ::Vararg{Any,N} where N) at /home/blegat/.julia/packages/JuMP/HmKx8/src/JuMP.jl:576",
      " [4] get(::Model, ::MathOptInterface.ConstraintPrimal, ::ConstraintRef{Model,MathOptInterface.ConstraintIndex{MathOptInterface.SingleVariable,Nonnegative},ScalarShape}) at /home/blegat/.julia/packages/JuMP/HmKx8/src/JuMP.jl:615",
      " [5] _constraint_primal(::ConstraintRef{Model,MathOptInterface.ConstraintIndex{MathOptInterface.SingleVariable,Nonnegative},ScalarShape}) at /home/blegat/.julia/packages/JuMP/HmKx8/src/constraints.jl:454",
      " [6] value(::ConstraintRef{Model,MathOptInterface.ConstraintIndex{MathOptInterface.SingleVariable,Nonnegative},ScalarShape}) at /home/blegat/.julia/packages/JuMP/HmKx8/src/constraints.jl:447",
      " [7] top-level scope at In[14]:2"
     ]
    }
   ],
   "source": [
    "optimize!(model)\n",
    "value(cref)"
   ]
  },
  {
   "cell_type": "code",
   "execution_count": 15,
   "metadata": {
    "collapsed": true
   },
   "outputs": [],
   "source": [
    "function MOI.get(model::MOI.ModelLike,\n",
    "                 attr::Union{MOI.ConstraintPrimal, MOI.ConstraintDual},\n",
    "                 bridge::NonnegativeBridge)\n",
    "    return MOI.get(model, attr, bridge.constraint_index)\n",
    "end"
   ]
  },
  {
   "cell_type": "code",
   "execution_count": 16,
   "metadata": {},
   "outputs": [
    {
     "data": {
      "text/plain": [
       "0.0"
      ]
     },
     "execution_count": 16,
     "metadata": {},
     "output_type": "execute_result"
    }
   ],
   "source": [
    "value(cref)"
   ]
  },
  {
   "cell_type": "code",
   "execution_count": 17,
   "metadata": {},
   "outputs": [
    {
     "data": {
      "text/plain": [
       "0.0"
      ]
     },
     "execution_count": 17,
     "metadata": {},
     "output_type": "execute_result"
    }
   ],
   "source": [
    "dual(cref)"
   ]
  },
  {
   "cell_type": "markdown",
   "metadata": {},
   "source": [
    "Now the constraint cannot be deleted unless we implement `MOI.delete` for the bridge."
   ]
  },
  {
   "cell_type": "code",
   "execution_count": 18,
   "metadata": {
    "collapsed": true
   },
   "outputs": [],
   "source": [
    "function MOI.delete(model::MOI.ModelLike, bridge::NonnegativeBridge)\n",
    "    MOI.delete(model, bridge.constraint_index)\n",
    "end"
   ]
  },
  {
   "cell_type": "code",
   "execution_count": 19,
   "metadata": {},
   "outputs": [],
   "source": [
    "delete(model, cref)"
   ]
  },
  {
   "cell_type": "code",
   "execution_count": null,
   "metadata": {
    "collapsed": true
   },
   "outputs": [],
   "source": []
  }
 ],
 "metadata": {
  "kernelspec": {
   "display_name": "Julia 1.1.0",
   "language": "julia",
   "name": "julia-1.1"
  },
  "language_info": {
   "file_extension": ".jl",
   "mimetype": "application/julia",
   "name": "julia",
   "version": "1.1.0"
  }
 },
 "nbformat": 4,
 "nbformat_minor": 2
}
