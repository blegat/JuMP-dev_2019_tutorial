{
 "cells": [
  {
   "cell_type": "markdown",
   "metadata": {},
   "source": [
    "# Why a solver wrapper should NOT try to enhance a solver capabilities\n",
    "\n",
    "## Running example:\n",
    "\n",
    "**Limitation of solver**: The solver supports `MOI.VectorAffineFunction{Float64}`-in-`MOI.Zeros` and `MOI.VectorOfVariables`-in-`S` but not `MOI.VectorAffineFunction{Float64}`-in-`S`.\n",
    "\n",
    "**Enhancement in wrapper**: Support `f::MOI.VectorAffineFunction{Float64}`-in-`set::S` by creating slacks `slack` and add a constraint `slack`-in-`set` and (`slack - f`)-in-`MOI.Zeros(...)`.\n",
    "\n",
    "## It is more work that it looks like\n",
    "\n",
    "What if the user:\n",
    "* ask for the number/list of variables (the `slack` variables should be hidden);\n",
    "* ask for the number/list of constraints (the `slack`-in-`set` and (`slack - f`)-in-`MOI.Zeros(...)` should be hidden);\n",
    "* modifies coefficients of `f`;\n",
    "* modifies constants of `f`;\n",
    "* modifies the set `S`;\n",
    "* query primal/dual values;\n",
    "* set start values for primal/dual;\n",
    "* set a names...\n",
    "\n",
    "It is a lot of code to maintain, it is better to write it once for all solvers than to duplicate the work.\n",
    "\n",
    "## It is making it worse, not better\n",
    "\n",
    "Suppose a user wants to write a solver-agnistic code and can either use `MOI.VectorOfVariables`-in-`S` or `MOI.VectorAffineFunction{Float64}`-in-`S`.\n",
    "He wants to know which form is the most efficient, he does not want slack variables to be created in secret.\n",
    "```julia\n",
    "function f(optimizer::MOI.AbstractOptimizer)\n",
    "    if MOI.supports(optimizer, MOI.VectorOfVariables, set)\n",
    "        ...\n",
    "    elseif MOI.supports(optimizer, MOI.VectorAffineFunction{Float64}, set)\n",
    "        ...\n",
    "    else\n",
    "        error(...)\n",
    "    end\n",
    "end\n",
    "```\n",
    "\n",
    "More importantly, when a constraint is bridges, a Bellman-Ford-like algorithm is solved to find the way to\n",
    "bridge it using the least amount of bridge possible, see the [JuMP-dev 2018 presentation](https://www.youtube.com/results?search_query=constraint+bridges) for more details.\n",
    "If some bridges are done inside the wrapper, they cannot be taken into account and it misleads the Bellman-Ford algorithm.\n",
    "\n",
    "## Conclusion\n",
    "\n",
    "Solvers have different interfaces, which makes it impossible to write solver agnistic code.\n",
    "MOI is a solver-agnistic interface that allows solvers to *speak the same language* to describe their capabilities and provide them.\n",
    "MOI is *inclusive*, it is ok of a solver is different, it does not need to *pretend* in its MOI implementation.\n",
    "An MOI implementation should not try to *fit* in a specific class.\n",
    "\n",
    "Most importantly: A missing capability in the MOI implementation does **not** mean that it is not available when used with JuMP!"
   ]
  },
  {
   "cell_type": "code",
   "execution_count": null,
   "metadata": {
    "collapsed": true
   },
   "outputs": [],
   "source": []
  },
  {
   "cell_type": "code",
   "execution_count": null,
   "metadata": {
    "collapsed": true
   },
   "outputs": [],
   "source": []
  }
 ],
 "metadata": {
  "kernelspec": {
   "display_name": "Julia 1.1.0",
   "language": "julia",
   "name": "julia-1.1"
  },
  "language_info": {
   "file_extension": ".jl",
   "mimetype": "application/julia",
   "name": "julia",
   "version": "1.1.0"
  }
 },
 "nbformat": 4,
 "nbformat_minor": 2
}
