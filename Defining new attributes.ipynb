{
 "cells": [
  {
   "cell_type": "code",
   "execution_count": 1,
   "metadata": {},
   "outputs": [
    {
     "name": "stdout",
     "output_type": "stream",
     "text": [
      "\u001b[32m\u001b[1m  Updating\u001b[22m\u001b[39m registry at `~/.julia/registries/General`\n",
      "\u001b[32m\u001b[1m  Updating\u001b[22m\u001b[39m git-repo `https://github.com/JuliaRegistries/General.git`\n",
      "\u001b[?25l\u001b[2K\u001b[?25h"
     ]
    }
   ],
   "source": [
    "import Pkg\n",
    "Pkg.activate(@__DIR__)\n",
    "Pkg.instantiate()"
   ]
  },
  {
   "cell_type": "markdown",
   "metadata": {},
   "source": [
    "When creating new attributes, it is important to decide which MOI instance should handle setting and/or getting it.\n",
    "\n",
    "The typical MOI structure is as follows:\n",
    "* Caching optimizer\n",
    "  * Cache\n",
    "  * Bridge optimizer\n",
    "    * Bridges\n",
    "    * Optimizer\n",
    "\n",
    "We can classify attributes in different categories. They can be distinguished by their super type, either `AbstractOptimizerAttribute` or other (i.e. `AbstractModelAttribute`, `AbstractConstraintAttribute` or `AbstractVariableAttribute`) and by the traits `is_set_by_optimize` (`false` by default) and `is_copyable` (`!is_set_by_optimize` by default).\n",
    "\n",
    "The table below shows an example of attribute in each category (except the last column for which no example exists).\n",
    "Columns names are the value of `is_set_by_optimize`/`is_copyable` for the attribute.\n",
    "\n",
    "|                     |   `false`/`false`   |  `false`/`true`  |  `true`/`false`  | `true`/`true` |\n",
    "|:-------------------:|:-------------------:|:----------------:|:----------------:|:-------------:|\n",
    "| optimizer attribute |        `SolverName` |  `VerboseLevel`  |                  |               |\n",
    "| other               | `NumberOfVariables` | `ObjectiveSense` | `VariablePrimal` |               |\n",
    "\n",
    "The attributes in the first column should both implement `is_set_by_optimize` and `is_copyable`,\n",
    "the attributes in the second column can keep the default methods and the attributes in the\n",
    "third columns only need to implement `is_set_by_optimize`."
   ]
  },
  {
   "cell_type": "code",
   "execution_count": 2,
   "metadata": {},
   "outputs": [
    {
     "data": {
      "text/plain": [
       "false"
      ]
     },
     "execution_count": 2,
     "metadata": {},
     "output_type": "execute_result"
    }
   ],
   "source": [
    "using JuMP\n",
    "struct TimeLimit <: MOI.AbstractOptimizerAttribute end\n",
    "attr = TimeLimit()\n",
    "MOI.is_set_by_optimize(attr)"
   ]
  },
  {
   "cell_type": "code",
   "execution_count": 3,
   "metadata": {},
   "outputs": [
    {
     "data": {
      "text/plain": [
       "true"
      ]
     },
     "execution_count": 3,
     "metadata": {},
     "output_type": "execute_result"
    }
   ],
   "source": [
    "MOI.is_copyable(attr)"
   ]
  },
  {
   "cell_type": "markdown",
   "metadata": {},
   "source": [
    "As we can see above, the attribute is in the secon column by default.\n",
    "\n",
    "## Attributes and caching optimizer\n",
    "\n",
    "The caching optimizer works as follows with attributes:\n",
    "* For `set`:\n",
    "  * If it is an optimizer attribute, it is set both to the cache and optimizer;\n",
    "  * otherwise it is set to the cache and\n",
    "    * if the state is `ATTACHED_OPTIMIZER`, it is set to the optimizer too, if the optimizer throws `NotAllowedError`, it is detached.\n",
    "\n",
    "    The attribute will be copied before `optimize!` if the state is not `ATTACHED_OPTIMIZER`.\n",
    "    Note that names are an exception, they are only set to the cache an never to the optimizer.\n",
    "    This allows optimizer not supporting names to be used in a model using names.\n",
    "* For `get`:\n",
    "  * If it is an optimizer attribute or it `is_set_by_optimize`, it is got from the optimizer;\n",
    "  * otherwise it is got from the cache."
   ]
  },
  {
   "cell_type": "code",
   "execution_count": 4,
   "metadata": {},
   "outputs": [
    {
     "name": "stderr",
     "output_type": "stream",
     "text": [
      "┌ Info: Precompiling MosekTools [1ec41992-ff65-5c91-ac43-2df89e9693a4]\n",
      "└ @ Base loading.jl:1186\n"
     ]
    },
    {
     "data": {
      "text/plain": [
       "EMPTY_OPTIMIZER::CachingOptimizerState = 1"
      ]
     },
     "execution_count": 4,
     "metadata": {},
     "output_type": "execute_result"
    }
   ],
   "source": [
    "using MosekTools\n",
    "cached = MOIU.CachingOptimizer(MOIU.UniversalFallback(JuMP._MOIModel{Float64}()), MOIU.AUTOMATIC)\n",
    "optimizer = Mosek.Optimizer(QUIET=true)\n",
    "MOIU.reset_optimizer(cached, optimizer)\n",
    "MOIU.state(cached)"
   ]
  },
  {
   "cell_type": "markdown",
   "metadata": {},
   "source": [
    "The state is empty optimizer so modifications to the model will not be copied to the model until it is attached.\n",
    "This is not the case of optimizer attributes."
   ]
  },
  {
   "cell_type": "code",
   "execution_count": 5,
   "metadata": {
    "collapsed": true
   },
   "outputs": [],
   "source": [
    "struct TimeLimit <: MOI.AbstractOptimizerAttribute end"
   ]
  },
  {
   "cell_type": "code",
   "execution_count": 6,
   "metadata": {},
   "outputs": [
    {
     "ename": "MathOptInterface.UnsupportedAttribute{TimeLimit}",
     "evalue": "MathOptInterface.UnsupportedAttribute{TimeLimit}: Attribute TimeLimit() is not supported by the model.",
     "output_type": "error",
     "traceback": [
      "MathOptInterface.UnsupportedAttribute{TimeLimit}: Attribute TimeLimit() is not supported by the model.",
      "",
      "Stacktrace:",
      " [1] #throw_set_error_fallback#12(::MathOptInterface.SetAttributeNotAllowed{TimeLimit}, ::Function, ::MosekModel, ::TimeLimit, ::Float64) at /home/blegat/.julia/packages/MathOptInterface/C3lip/src/attributes.jl:309",
      " [2] throw_set_error_fallback(::MosekModel, ::TimeLimit, ::Float64) at /home/blegat/.julia/packages/MathOptInterface/C3lip/src/attributes.jl:306",
      " [3] set(::MosekModel, ::TimeLimit, ::Float64) at /home/blegat/.julia/packages/MathOptInterface/C3lip/src/attributes.jl:295",
      " [4] set(::MathOptInterface.Utilities.CachingOptimizer{MathOptInterface.AbstractOptimizer,MathOptInterface.Utilities.UniversalFallback{JuMP._MOIModel{Float64}}}, ::TimeLimit, ::Float64) at /home/blegat/.julia/packages/MathOptInterface/C3lip/src/Utilities/cachingoptimizer.jl:513",
      " [5] top-level scope at In[6]:1"
     ]
    }
   ],
   "source": [
    "MOI.set(cached, TimeLimit(), 0.5)"
   ]
  },
  {
   "cell_type": "markdown",
   "metadata": {},
   "source": [
    "As we can see, the optimizer attribute is directly set to the optimizer even if the state is empty.\n",
    "We can now implement it for Mosek."
   ]
  },
  {
   "cell_type": "code",
   "execution_count": 7,
   "metadata": {
    "collapsed": true
   },
   "outputs": [],
   "source": [
    "MOI.supports(::MosekTools.MosekModel, ::TimeLimit) = true\n",
    "function MOI.set(m::MosekTools.MosekModel, ::TimeLimit, t)\n",
    "    MOI.set(m, MosekTools.DoubleParameter(\"MSK_DPAR_OPTIMIZER_MAX_TIME\"), t)\n",
    "end\n",
    "function MOI.get(m::MosekTools.MosekModel, ::TimeLimit)\n",
    "    MOI.get(m, MosekTools.DoubleParameter(\"MSK_DPAR_OPTIMIZER_MAX_TIME\"))\n",
    "end"
   ]
  },
  {
   "cell_type": "code",
   "execution_count": 8,
   "metadata": {},
   "outputs": [
    {
     "data": {
      "text/plain": [
       "0.5"
      ]
     },
     "execution_count": 8,
     "metadata": {},
     "output_type": "execute_result"
    }
   ],
   "source": [
    "MOI.set(cached, TimeLimit(), 0.5)\n",
    "MOI.get(optimizer, TimeLimit())"
   ]
  },
  {
   "cell_type": "markdown",
   "metadata": {},
   "source": [
    "When another optimizer is attached, the optimizer attribtes get copied directly.\n",
    "This is because the optimizer is responsible for the `get` operation so it should always have the correct values\n",
    "of the optimizer attributes even in the empty state."
   ]
  },
  {
   "cell_type": "code",
   "execution_count": 9,
   "metadata": {},
   "outputs": [
    {
     "ename": "MathOptInterface.UnsupportedAttribute{TimeLimit}",
     "evalue": "MathOptInterface.UnsupportedAttribute{TimeLimit}: Attribute TimeLimit() is not supported by the model.",
     "output_type": "error",
     "traceback": [
      "MathOptInterface.UnsupportedAttribute{TimeLimit}: Attribute TimeLimit() is not supported by the model.",
      "",
      "Stacktrace:",
      " [1] #throw_set_error_fallback#12(::MathOptInterface.SetAttributeNotAllowed{TimeLimit}, ::Function, ::SemidefiniteOptInterface.SOItoMOIBridge{Float64,CSDP.SDOptimizer}, ::TimeLimit, ::Float64) at /home/blegat/.julia/packages/MathOptInterface/C3lip/src/attributes.jl:309",
      " [2] throw_set_error_fallback(::SemidefiniteOptInterface.SOItoMOIBridge{Float64,CSDP.SDOptimizer}, ::TimeLimit, ::Float64) at /home/blegat/.julia/packages/MathOptInterface/C3lip/src/attributes.jl:306",
      " [3] set(::SemidefiniteOptInterface.SOItoMOIBridge{Float64,CSDP.SDOptimizer}, ::TimeLimit, ::Float64) at /home/blegat/.julia/packages/MathOptInterface/C3lip/src/attributes.jl:295",
      " [4] reset_optimizer(::MathOptInterface.Utilities.CachingOptimizer{MathOptInterface.AbstractOptimizer,MathOptInterface.Utilities.UniversalFallback{JuMP._MOIModel{Float64}}}, ::SemidefiniteOptInterface.SOItoMOIBridge{Float64,CSDP.SDOptimizer}) at /home/blegat/.julia/packages/MathOptInterface/C3lip/src/Utilities/cachingoptimizer.jl:86",
      " [5] top-level scope at In[9]:2"
     ]
    }
   ],
   "source": [
    "import CSDP\n",
    "MOIU.reset_optimizer(cached, CSDP.Optimizer())"
   ]
  },
  {
   "cell_type": "code",
   "execution_count": 10,
   "metadata": {},
   "outputs": [
    {
     "data": {
      "text/plain": [
       "EMPTY_OPTIMIZER::CachingOptimizerState = 1"
      ]
     },
     "execution_count": 10,
     "metadata": {},
     "output_type": "execute_result"
    }
   ],
   "source": [
    "MOIU.state(cached)"
   ]
  },
  {
   "cell_type": "code",
   "execution_count": 11,
   "metadata": {
    "collapsed": true
   },
   "outputs": [],
   "source": [
    "MOIU.drop_optimizer(cached)"
   ]
  },
  {
   "cell_type": "markdown",
   "metadata": {},
   "source": [
    "When no optimizer is attached, `set` only stores optimizer attributes in the cache."
   ]
  },
  {
   "cell_type": "code",
   "execution_count": 13,
   "metadata": {},
   "outputs": [
    {
     "data": {
      "text/plain": [
       "1.0"
      ]
     },
     "execution_count": 13,
     "metadata": {},
     "output_type": "execute_result"
    }
   ],
   "source": [
    "MOI.set(cached, TimeLimit(), 1.0)"
   ]
  },
  {
   "cell_type": "markdown",
   "metadata": {},
   "source": [
    "Note that optimizer attributes are not cleared by `empty!`."
   ]
  },
  {
   "cell_type": "code",
   "execution_count": 14,
   "metadata": {},
   "outputs": [
    {
     "data": {
      "text/plain": [
       "0.5"
      ]
     },
     "execution_count": 14,
     "metadata": {},
     "output_type": "execute_result"
    }
   ],
   "source": [
    "MOI.empty!(optimizer)\n",
    "MOI.get(optimizer, TimeLimit())"
   ]
  },
  {
   "cell_type": "code",
   "execution_count": 15,
   "metadata": {},
   "outputs": [
    {
     "data": {
      "text/plain": [
       "1.0"
      ]
     },
     "execution_count": 15,
     "metadata": {},
     "output_type": "execute_result"
    }
   ],
   "source": [
    "MOIU.reset_optimizer(cached, optimizer)\n",
    "MOI.get(optimizer, TimeLimit())"
   ]
  },
  {
   "cell_type": "markdown",
   "metadata": {},
   "source": [
    "## Attributes and bridges\n",
    "\n",
    "All attributes `get`/`set` calls are passed directly to the optimizer except for `AbstractConstraintAttribute` of constraints that are bridged.\n",
    "For these, the call is passed to the bridge which typically then use calls with the same attribute for the transformed constraints."
   ]
  },
  {
   "cell_type": "code",
   "execution_count": 16,
   "metadata": {},
   "outputs": [
    {
     "data": {
      "text/latex": [
       "$ \\begin{bmatrix}\n",
       "1 & x\\\\\n",
       "\\cdot & 1\\\\\n",
       "\\end{bmatrix} \\in PSDCone() $"
      ],
      "text/plain": [
       "[1  x;\n",
       " x  1] ∈ PSDCone()"
      ]
     },
     "execution_count": 16,
     "metadata": {},
     "output_type": "execute_result"
    }
   ],
   "source": [
    "using MosekTools\n",
    "optimizer = Mosek.Optimizer(QUIET=true)\n",
    "bridged = MOI.Bridges.full_bridge_optimizer(optimizer, Float64)\n",
    "model = direct_model(bridged)\n",
    "@variable(model, x)\n",
    "using LinearAlgebra\n",
    "cref = @constraint(model, Symmetric([1 x; x 1]) in PSDCone())"
   ]
  },
  {
   "cell_type": "code",
   "execution_count": 17,
   "metadata": {},
   "outputs": [
    {
     "data": {
      "text/plain": [
       "true"
      ]
     },
     "execution_count": 17,
     "metadata": {},
     "output_type": "execute_result"
    }
   ],
   "source": [
    "MOI.Bridges.is_bridged(backend(model), typeof(index(cref)))"
   ]
  },
  {
   "cell_type": "code",
   "execution_count": 18,
   "metadata": {},
   "outputs": [
    {
     "data": {
      "text/plain": [
       "MathOptInterface.Bridges.VectorSlackBridge{Float64,MathOptInterface.VectorAffineFunction{Float64},MathOptInterface.PositiveSemidefiniteConeTriangle}"
      ]
     },
     "execution_count": 18,
     "metadata": {},
     "output_type": "execute_result"
    }
   ],
   "source": [
    "typeof(MOI.Bridges.bridge(backend(model), index(cref)))"
   ]
  },
  {
   "cell_type": "code",
   "execution_count": 19,
   "metadata": {
    "collapsed": true
   },
   "outputs": [],
   "source": [
    "optimize!(model)"
   ]
  },
  {
   "cell_type": "code",
   "execution_count": 20,
   "metadata": {
    "collapsed": true
   },
   "outputs": [],
   "source": [
    "struct UnknownConstraintAttribute <: MOI.AbstractConstraintAttribute end\n",
    "MOI.is_set_by_optimize(::UnknownConstraintAttribute) = true"
   ]
  },
  {
   "cell_type": "code",
   "execution_count": 21,
   "metadata": {},
   "outputs": [
    {
     "ename": "ArgumentError",
     "evalue": "ArgumentError: Constraint bridge of type `MathOptInterface.Bridges.VectorSlackBridge{Float64,MathOptInterface.VectorAffineFunction{Float64},MathOptInterface.PositiveSemidefiniteConeTriangle}` does not support accessing the attribute `UnknownConstraintAttribute()`.",
     "output_type": "error",
     "traceback": [
      "ArgumentError: Constraint bridge of type `MathOptInterface.Bridges.VectorSlackBridge{Float64,MathOptInterface.VectorAffineFunction{Float64},MathOptInterface.PositiveSemidefiniteConeTriangle}` does not support accessing the attribute `UnknownConstraintAttribute()`.",
      "",
      "Stacktrace:",
      " [1] get(::MathOptInterface.Bridges.LazyBridgeOptimizer{MosekModel,MathOptInterface.Utilities.UniversalFallback{MathOptInterface.Bridges.AllBridgedConstraints{Float64}}}, ::UnknownConstraintAttribute, ::MathOptInterface.Bridges.VectorSlackBridge{Float64,MathOptInterface.VectorAffineFunction{Float64},MathOptInterface.PositiveSemidefiniteConeTriangle}) at /home/blegat/.julia/packages/MathOptInterface/C3lip/src/Bridges/bridge.jl:16",
      " [2] get(::MathOptInterface.Bridges.LazyBridgeOptimizer{MosekModel,MathOptInterface.Utilities.UniversalFallback{MathOptInterface.Bridges.AllBridgedConstraints{Float64}}}, ::UnknownConstraintAttribute, ::MathOptInterface.ConstraintIndex{MathOptInterface.VectorAffineFunction{Float64},MathOptInterface.PositiveSemidefiniteConeTriangle}) at /home/blegat/.julia/packages/MathOptInterface/C3lip/src/Bridges/bridgeoptimizer.jl:231",
      " [3] _moi_get_result(::MathOptInterface.Bridges.LazyBridgeOptimizer{MosekModel,MathOptInterface.Utilities.UniversalFallback{MathOptInterface.Bridges.AllBridgedConstraints{Float64}}}, ::UnknownConstraintAttribute, ::Vararg{Any,N} where N) at /home/blegat/.julia/packages/JuMP/jnmGG/src/JuMP.jl:576",
      " [4] get(::Model, ::UnknownConstraintAttribute, ::ConstraintRef{Model,MathOptInterface.ConstraintIndex{MathOptInterface.VectorAffineFunction{Float64},MathOptInterface.PositiveSemidefiniteConeTriangle},SymmetricMatrixShape}) at /home/blegat/.julia/packages/JuMP/jnmGG/src/JuMP.jl:615",
      " [5] top-level scope at In[21]:1"
     ]
    }
   ],
   "source": [
    "MOI.get(model, UnknownConstraintAttribute(), cref)"
   ]
  },
  {
   "cell_type": "code",
   "execution_count": null,
   "metadata": {
    "collapsed": true
   },
   "outputs": [],
   "source": []
  }
 ],
 "metadata": {
  "kernelspec": {
   "display_name": "Julia 1.1.0",
   "language": "julia",
   "name": "julia-1.1"
  },
  "language_info": {
   "file_extension": ".jl",
   "mimetype": "application/julia",
   "name": "julia",
   "version": "1.1.0"
  }
 },
 "nbformat": 4,
 "nbformat_minor": 2
}
