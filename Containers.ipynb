{
 "cells": [
  {
   "cell_type": "code",
   "execution_count": 1,
   "metadata": {},
   "outputs": [
    {
     "name": "stdout",
     "output_type": "stream",
     "text": [
      "\u001b[32m\u001b[1m  Updating\u001b[22m\u001b[39m registry at `~/.julia/registries/General`\n",
      "\u001b[32m\u001b[1m  Updating\u001b[22m\u001b[39m git-repo `https://github.com/JuliaRegistries/General.git`\n",
      "\u001b[?25l\u001b[2K\u001b[?25h"
     ]
    }
   ],
   "source": [
    "import Pkg\n",
    "Pkg.activate(@__DIR__)\n",
    "Pkg.instantiate()"
   ]
  },
  {
   "cell_type": "code",
   "execution_count": 2,
   "metadata": {},
   "outputs": [],
   "source": [
    "using JuMP\n",
    "model = Model();"
   ]
  },
  {
   "cell_type": "markdown",
   "metadata": {},
   "source": [
    "## Arrays"
   ]
  },
  {
   "cell_type": "code",
   "execution_count": 3,
   "metadata": {},
   "outputs": [
    {
     "data": {
      "text/plain": [
       "quote\n",
       "    #= /home/blegat/.julia/packages/JuMP/jnmGG/src/macros.jl:278 =#\n",
       "    (JuMP._valid_model)(model, :model)\n",
       "    #= /home/blegat/.julia/packages/JuMP/jnmGG/src/macros.jl:279 =#\n",
       "    begin\n",
       "        #= /home/blegat/.julia/packages/JuMP/jnmGG/src/macros.jl:336 =#\n",
       "        (JuMP._error_if_cannot_register)(model, :x)\n",
       "        #= /home/blegat/.julia/packages/JuMP/jnmGG/src/macros.jl:340 =#\n",
       "        #2###363 = begin\n",
       "                #= /home/blegat/.julia/packages/JuMP/jnmGG/src/macros.jl:294 =#\n",
       "                let\n",
       "                    #= /home/blegat/.julia/packages/JuMP/jnmGG/src/macros.jl:300 =#\n",
       "                    begin\n",
       "                        #= /home/blegat/.julia/packages/JuMP/jnmGG/src/macros.jl:186 =#\n",
       "                        #2###363 = (JuMP.Array){(JuMP.variable_type)(model)}(JuMP.undef, ((JuMP.length)(1:2),)...)\n",
       "                        #= /home/blegat/.julia/packages/JuMP/jnmGG/src/macros.jl:187 =#\n",
       "                        begin\n",
       "                            #= /home/blegat/.julia/packages/JuMP/jnmGG/src/macros.jl:174 =#\n",
       "                            let\n",
       "                                #= /home/blegat/.julia/packages/JuMP/jnmGG/src/macros.jl:175 =#\n",
       "                                begin\n",
       "                                    local ##364\n",
       "                                end\n",
       "                                #= /home/blegat/.julia/packages/JuMP/jnmGG/src/macros.jl:176 =#\n",
       "                                for ##364 = 1:2\n",
       "                                    #= /home/blegat/.julia/packages/JuMP/jnmGG/src/macros.jl:177 =#\n",
       "                                    #2###363[##364] = (JuMP.add_variable)(model, (JuMP.build_variable)(getfield(JuMP, Symbol(\"#_error#66\")){Tuple{Symbol,Expr}}((:model, :(x[1:2]))), (JuMP.VariableInfo)(false, NaN, false, NaN, false, NaN, false, NaN, false, false)), (JuMP.string)(\"x\", \"[\", (JuMP.string)(##364), \"]\"))\n",
       "                                end\n",
       "                            end\n",
       "                        end\n",
       "                        #= /home/blegat/.julia/packages/JuMP/jnmGG/src/macros.jl:188 =#\n",
       "                        JuMP.nothing\n",
       "                    end\n",
       "                    #= /home/blegat/.julia/packages/JuMP/jnmGG/src/macros.jl:301 =#\n",
       "                    #2###363\n",
       "                end\n",
       "            end\n",
       "        #= /home/blegat/.julia/packages/JuMP/jnmGG/src/macros.jl:341 =#\n",
       "        ((JuMP.object_dictionary)(model))[:x] = #2###363\n",
       "        #= /home/blegat/.julia/packages/JuMP/jnmGG/src/macros.jl:346 =#\n",
       "        x = #2###363\n",
       "    end\n",
       "end"
      ]
     },
     "execution_count": 3,
     "metadata": {},
     "output_type": "execute_result"
    }
   ],
   "source": [
    "@macroexpand @variable(model, x[1:2])"
   ]
  },
  {
   "cell_type": "code",
   "execution_count": 4,
   "metadata": {},
   "outputs": [
    {
     "data": {
      "text/plain": [
       "2-element Array{VariableRef,1}:\n",
       " #undef\n",
       " #undef"
      ]
     },
     "execution_count": 4,
     "metadata": {},
     "output_type": "execute_result"
    }
   ],
   "source": [
    "x = Array{variable_type(model)}(undef, (length(1:2),)...)"
   ]
  },
  {
   "cell_type": "code",
   "execution_count": 5,
   "metadata": {
    "collapsed": true
   },
   "outputs": [],
   "source": [
    "for i in 1:2\n",
    "    info = VariableInfo(false, NaN, false, NaN, false, NaN, false, NaN, false, false)\n",
    "    variable = build_variable(error, info)\n",
    "    name = string(\"x\", \"[\", string(i), \"]\")\n",
    "    x[i] = add_variable(model, variable, name)\n",
    "end"
   ]
  },
  {
   "cell_type": "code",
   "execution_count": 6,
   "metadata": {},
   "outputs": [
    {
     "data": {
      "text/plain": [
       "2-element Array{VariableRef,1}:\n",
       " x[1]\n",
       " x[2]"
      ]
     },
     "execution_count": 6,
     "metadata": {},
     "output_type": "execute_result"
    }
   ],
   "source": [
    "x"
   ]
  },
  {
   "cell_type": "code",
   "execution_count": 7,
   "metadata": {},
   "outputs": [
    {
     "name": "stdout",
     "output_type": "stream",
     "text": [
      "VariableInfo{Float64,Float64,Float64,Float64}\n",
      "  has_lb: Bool false\n",
      "  lower_bound: Float64 NaN\n",
      "  has_ub: Bool false\n",
      "  upper_bound: Float64 NaN\n",
      "  has_fix: Bool false\n",
      "  fixed_value: Float64 NaN\n",
      "  has_start: Bool false\n",
      "  start: Float64 NaN\n",
      "  binary: Bool false\n",
      "  integer: Bool false\n"
     ]
    }
   ],
   "source": [
    "dump(VariableInfo(false, NaN, false, NaN, false, NaN, false, NaN, false, false))"
   ]
  },
  {
   "cell_type": "markdown",
   "metadata": {},
   "source": [
    "## DenseAxisArray"
   ]
  },
  {
   "cell_type": "code",
   "execution_count": 8,
   "metadata": {},
   "outputs": [
    {
     "data": {
      "text/plain": [
       "quote\n",
       "    #= /home/blegat/.julia/packages/JuMP/jnmGG/src/macros.jl:278 =#\n",
       "    (JuMP._valid_model)(model, :model)\n",
       "    #= /home/blegat/.julia/packages/JuMP/jnmGG/src/macros.jl:279 =#\n",
       "    begin\n",
       "        #= /home/blegat/.julia/packages/JuMP/jnmGG/src/macros.jl:336 =#\n",
       "        (JuMP._error_if_cannot_register)(model, :y)\n",
       "        #= /home/blegat/.julia/packages/JuMP/jnmGG/src/macros.jl:340 =#\n",
       "        #8###365 = begin\n",
       "                #= /home/blegat/.julia/packages/JuMP/jnmGG/src/macros.jl:294 =#\n",
       "                let\n",
       "                    #= /home/blegat/.julia/packages/JuMP/jnmGG/src/macros.jl:300 =#\n",
       "                    begin\n",
       "                        #= /home/blegat/.julia/packages/JuMP/jnmGG/src/macros.jl:186 =#\n",
       "                        #8###365 = if $(Expr(:&&, :(2:3 isa (JuMP.Base).OneTo)))\n",
       "                                #= /home/blegat/.julia/packages/JuMP/jnmGG/src/Containers/generate_container.jl:142 =#\n",
       "                                (JuMP.Array){(JuMP.variable_type)(model)}(JuMP.undef, ((JuMP.length)(2:3),)...)\n",
       "                            else\n",
       "                                #= /home/blegat/.julia/packages/JuMP/jnmGG/src/Containers/generate_container.jl:142 =#\n",
       "                                ((JuMP.JuMP).Containers).DenseAxisArray{(JuMP.variable_type)(model)}(JuMP.undef, 2:3)\n",
       "                            end\n",
       "                        #= /home/blegat/.julia/packages/JuMP/jnmGG/src/macros.jl:187 =#\n",
       "                        begin\n",
       "                            #= /home/blegat/.julia/packages/JuMP/jnmGG/src/macros.jl:174 =#\n",
       "                            let\n",
       "                                #= /home/blegat/.julia/packages/JuMP/jnmGG/src/macros.jl:175 =#\n",
       "                                begin\n",
       "                                    local i\n",
       "                                end\n",
       "                                #= /home/blegat/.julia/packages/JuMP/jnmGG/src/macros.jl:176 =#\n",
       "                                for i = 2:3\n",
       "                                    #= /home/blegat/.julia/packages/JuMP/jnmGG/src/macros.jl:177 =#\n",
       "                                    #8###365[i] = (JuMP.add_variable)(model, (JuMP.build_variable)(getfield(JuMP, Symbol(\"#_error#66\")){Tuple{Symbol,Expr}}((:model, :(y[i=2:3] >= i))), (JuMP.VariableInfo)(true, i, false, NaN, false, NaN, false, NaN, false, false)), (JuMP.string)(\"y\", \"[\", (JuMP.string)(i), \"]\"))\n",
       "                                end\n",
       "                            end\n",
       "                        end\n",
       "                        #= /home/blegat/.julia/packages/JuMP/jnmGG/src/macros.jl:188 =#\n",
       "                        JuMP.nothing\n",
       "                    end\n",
       "                    #= /home/blegat/.julia/packages/JuMP/jnmGG/src/macros.jl:301 =#\n",
       "                    #8###365\n",
       "                end\n",
       "            end\n",
       "        #= /home/blegat/.julia/packages/JuMP/jnmGG/src/macros.jl:341 =#\n",
       "        ((JuMP.object_dictionary)(model))[:y] = #8###365\n",
       "        #= /home/blegat/.julia/packages/JuMP/jnmGG/src/macros.jl:346 =#\n",
       "        y = #8###365\n",
       "    end\n",
       "end"
      ]
     },
     "execution_count": 8,
     "metadata": {},
     "output_type": "execute_result"
    }
   ],
   "source": [
    "@macroexpand @variable(model, y[i = 2:3] >= i)"
   ]
  },
  {
   "cell_type": "code",
   "execution_count": 9,
   "metadata": {},
   "outputs": [
    {
     "data": {
      "text/plain": [
       "1-dimensional DenseAxisArray{VariableRef,1,...} with index sets:\n",
       "    Dimension 1, 2:3\n",
       "And data, a 2-element Array{VariableRef,1}:\n",
       " #undef\n",
       " #undef"
      ]
     },
     "execution_count": 9,
     "metadata": {},
     "output_type": "execute_result"
    }
   ],
   "source": [
    "y = if 2:3 isa Base.OneTo\n",
    "    Array{variable_type(model)}(undef, (length(2:3),)...)\n",
    "else\n",
    "    Containers.DenseAxisArray{variable_type(model)}(undef, 2:3)\n",
    "end"
   ]
  },
  {
   "cell_type": "code",
   "execution_count": 10,
   "metadata": {
    "collapsed": true
   },
   "outputs": [],
   "source": [
    "for i in 2:3\n",
    "    info = JuMP.VariableInfo(true, i, false, NaN, false, NaN, false, NaN, false, false)\n",
    "    variable = build_variable(error, info)\n",
    "    name = string(\"y\", \"[\", string(i), \"]\")\n",
    "    y[i] = add_variable(model, variable, name)\n",
    "end"
   ]
  },
  {
   "cell_type": "code",
   "execution_count": 11,
   "metadata": {},
   "outputs": [
    {
     "data": {
      "text/plain": [
       "1-dimensional DenseAxisArray{VariableRef,1,...} with index sets:\n",
       "    Dimension 1, 2:3\n",
       "And data, a 2-element Array{VariableRef,1}:\n",
       " x[2]\n",
       " x[3]"
      ]
     },
     "execution_count": 11,
     "metadata": {},
     "output_type": "execute_result"
    }
   ],
   "source": [
    "y"
   ]
  },
  {
   "cell_type": "code",
   "execution_count": 12,
   "metadata": {},
   "outputs": [
    {
     "data": {
      "text/plain": [
       "2.0"
      ]
     },
     "execution_count": 12,
     "metadata": {},
     "output_type": "execute_result"
    }
   ],
   "source": [
    "lower_bound(y[2])"
   ]
  },
  {
   "cell_type": "code",
   "execution_count": 13,
   "metadata": {},
   "outputs": [
    {
     "data": {
      "text/plain": [
       "3.0"
      ]
     },
     "execution_count": 13,
     "metadata": {},
     "output_type": "execute_result"
    }
   ],
   "source": [
    "lower_bound(y[3])"
   ]
  },
  {
   "cell_type": "markdown",
   "metadata": {},
   "source": [
    "## SparseAxisArray"
   ]
  },
  {
   "cell_type": "code",
   "execution_count": 14,
   "metadata": {},
   "outputs": [
    {
     "data": {
      "text/plain": [
       "JuMP.Containers.SparseAxisArray{VariableRef,2,Tuple{Any,Any}} with 6 entries:\n",
       "  [3, 1]  =  z[3,1]\n",
       "  [3, 2]  =  z[3,2]\n",
       "  [3, 3]  =  z[3,3]\n",
       "  [2, 2]  =  z[2,2]\n",
       "  [1, 1]  =  z[1,1]\n",
       "  [2, 1]  =  z[2,1]"
      ]
     },
     "execution_count": 14,
     "metadata": {},
     "output_type": "execute_result"
    }
   ],
   "source": [
    "@variable(model, z[i=1:3, j=1:i])"
   ]
  },
  {
   "cell_type": "code",
   "execution_count": 15,
   "metadata": {},
   "outputs": [
    {
     "data": {
      "text/plain": [
       "quote\n",
       "    #= /home/blegat/.julia/packages/JuMP/jnmGG/src/macros.jl:278 =#\n",
       "    (JuMP._valid_model)(model, :model)\n",
       "    #= /home/blegat/.julia/packages/JuMP/jnmGG/src/macros.jl:279 =#\n",
       "    begin\n",
       "        #= /home/blegat/.julia/packages/JuMP/jnmGG/src/macros.jl:336 =#\n",
       "        (JuMP._error_if_cannot_register)(model, :z)\n",
       "        #= /home/blegat/.julia/packages/JuMP/jnmGG/src/macros.jl:340 =#\n",
       "        #22###367 = begin\n",
       "                #= /home/blegat/.julia/packages/JuMP/jnmGG/src/macros.jl:294 =#\n",
       "                let\n",
       "                    #= /home/blegat/.julia/packages/JuMP/jnmGG/src/macros.jl:300 =#\n",
       "                    begin\n",
       "                        #= /home/blegat/.julia/packages/JuMP/jnmGG/src/macros.jl:186 =#\n",
       "                        #22###367 = ((JuMP.JuMP).Containers).SparseAxisArray((JuMP.Dict){(JuMP.NTuple){2, JuMP.Any}, (JuMP.variable_type)(model)}())\n",
       "                        #= /home/blegat/.julia/packages/JuMP/jnmGG/src/macros.jl:187 =#\n",
       "                        begin\n",
       "                            #= /home/blegat/.julia/packages/JuMP/jnmGG/src/macros.jl:174 =#\n",
       "                            let\n",
       "                                #= /home/blegat/.julia/packages/JuMP/jnmGG/src/macros.jl:175 =#\n",
       "                                begin\n",
       "                                    local i\n",
       "                                end\n",
       "                                #= /home/blegat/.julia/packages/JuMP/jnmGG/src/macros.jl:176 =#\n",
       "                                for i = 1:3\n",
       "                                    #= /home/blegat/.julia/packages/JuMP/jnmGG/src/macros.jl:177 =#\n",
       "                                    begin\n",
       "                                        #= /home/blegat/.julia/packages/JuMP/jnmGG/src/macros.jl:174 =#\n",
       "                                        let\n",
       "                                            #= /home/blegat/.julia/packages/JuMP/jnmGG/src/macros.jl:175 =#\n",
       "                                            begin\n",
       "                                                local j\n",
       "                                            end\n",
       "                                            #= /home/blegat/.julia/packages/JuMP/jnmGG/src/macros.jl:176 =#\n",
       "                                            for j = 1:i\n",
       "                                                #= /home/blegat/.julia/packages/JuMP/jnmGG/src/macros.jl:177 =#\n",
       "                                                begin\n",
       "                                                    #= /home/blegat/.julia/packages/JuMP/jnmGG/src/macros.jl:160 =#\n",
       "                                                    if (JuMP.haskey)(#22###367, (i, j))\n",
       "                                                        #= /home/blegat/.julia/packages/JuMP/jnmGG/src/macros.jl:161 =#\n",
       "                                                        (JuMP.error)((JuMP.string)(\"Repeated index \", (i, j), \". Index sets must have unique elements.\"))\n",
       "                                                    end\n",
       "                                                    #= /home/blegat/.julia/packages/JuMP/jnmGG/src/macros.jl:163 =#\n",
       "                                                    #22###367[i, j] = (JuMP.add_variable)(model, (JuMP.build_variable)(getfield(JuMP, Symbol(\"#_error#66\")){Tuple{Symbol,Expr}}((:model, :(z[i=1:3, j=1:i]))), (JuMP.VariableInfo)(false, NaN, false, NaN, false, NaN, false, NaN, false, false)), (JuMP.string)(\"z\", \"[\", (JuMP.string)(i), \",\", (JuMP.string)(j), \"]\"))\n",
       "                                                end\n",
       "                                            end\n",
       "                                        end\n",
       "                                    end\n",
       "                                end\n",
       "                            end\n",
       "                        end\n",
       "                        #= /home/blegat/.julia/packages/JuMP/jnmGG/src/macros.jl:188 =#\n",
       "                        JuMP.nothing\n",
       "                    end\n",
       "                    #= /home/blegat/.julia/packages/JuMP/jnmGG/src/macros.jl:301 =#\n",
       "                    #22###367\n",
       "                end\n",
       "            end\n",
       "        #= /home/blegat/.julia/packages/JuMP/jnmGG/src/macros.jl:341 =#\n",
       "        ((JuMP.object_dictionary)(model))[:z] = #22###367\n",
       "        #= /home/blegat/.julia/packages/JuMP/jnmGG/src/macros.jl:346 =#\n",
       "        z = #22###367\n",
       "    end\n",
       "end"
      ]
     },
     "execution_count": 15,
     "metadata": {},
     "output_type": "execute_result"
    }
   ],
   "source": [
    "@macroexpand @variable(model, z[i=1:3, j=1:i])"
   ]
  },
  {
   "cell_type": "code",
   "execution_count": 16,
   "metadata": {},
   "outputs": [
    {
     "data": {
      "text/plain": [
       "JuMP.Containers.SparseAxisArray{VariableRef,2,Tuple{Any,Any}} with 0 entries"
      ]
     },
     "execution_count": 16,
     "metadata": {},
     "output_type": "execute_result"
    }
   ],
   "source": [
    "z = Containers.SparseAxisArray(Dict{NTuple{2, Any}, variable_type(model)}())"
   ]
  },
  {
   "cell_type": "code",
   "execution_count": 17,
   "metadata": {
    "collapsed": true
   },
   "outputs": [],
   "source": [
    "for i in 1:3\n",
    "    for j in 1:i\n",
    "        info = VariableInfo(false, NaN, false, NaN, false, NaN, false, NaN, false, false)\n",
    "        variable = build_variable(error, info)\n",
    "        name = string(\"z\", \"[\", string(i), \",\", string(j), \"]\")\n",
    "        z[i, j] = add_variable(model, variable, name)\n",
    "    end\n",
    "end"
   ]
  },
  {
   "cell_type": "code",
   "execution_count": 18,
   "metadata": {},
   "outputs": [
    {
     "data": {
      "text/plain": [
       "JuMP.Containers.SparseAxisArray{VariableRef,2,Tuple{Any,Any}} with 6 entries:\n",
       "  [3, 1]  =  z[3,1]\n",
       "  [3, 2]  =  z[3,2]\n",
       "  [3, 3]  =  z[3,3]\n",
       "  [2, 2]  =  z[2,2]\n",
       "  [1, 1]  =  z[1,1]\n",
       "  [2, 1]  =  z[2,1]"
      ]
     },
     "execution_count": 18,
     "metadata": {},
     "output_type": "execute_result"
    }
   ],
   "source": [
    "z"
   ]
  },
  {
   "cell_type": "code",
   "execution_count": null,
   "metadata": {
    "collapsed": true
   },
   "outputs": [],
   "source": []
  }
 ],
 "metadata": {
  "kernelspec": {
   "display_name": "Julia 1.1.0",
   "language": "julia",
   "name": "julia-1.1"
  },
  "language_info": {
   "file_extension": ".jl",
   "mimetype": "application/julia",
   "name": "julia",
   "version": "1.1.0"
  }
 },
 "nbformat": 4,
 "nbformat_minor": 2
}
